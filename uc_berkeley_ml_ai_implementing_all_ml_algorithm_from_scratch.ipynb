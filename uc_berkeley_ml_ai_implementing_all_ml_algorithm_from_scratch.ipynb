{
  "nbformat": 4,
  "nbformat_minor": 0,
  "metadata": {
    "colab": {
      "provenance": [],
      "mount_file_id": "11RcqaqCsiDIMUTC_tph2J0VyAk0m_qzE",
      "authorship_tag": "ABX9TyNKIGZs+5v28oreXubxCgTz",
      "include_colab_link": true
    },
    "kernelspec": {
      "name": "python3",
      "display_name": "Python 3"
    },
    "language_info": {
      "name": "python"
    }
  },
  "cells": [
    {
      "cell_type": "markdown",
      "metadata": {
        "id": "view-in-github",
        "colab_type": "text"
      },
      "source": [
        "<a href=\"https://colab.research.google.com/github/dcnguyen060899/BerkeleyMLMods/blob/main/uc_berkeley_ml_ai_implementing_all_ml_algorithm_from_scratch.ipynb\" target=\"_parent\"><img src=\"https://colab.research.google.com/assets/colab-badge.svg\" alt=\"Open In Colab\"/></a>"
      ]
    },
    {
      "cell_type": "markdown",
      "source": [
        "# UC Berkeley Engineering | Berkeley Haas ML/AI - 2024"
      ],
      "metadata": {
        "id": "JS9LVKaspcdU"
      }
    },
    {
      "cell_type": "markdown",
      "source": [
        "In this notebook, I will atempt to translate to all the Machine Learning algorithm in theory that  I learned from UC Berkeley ML/AI during my 6 months online cohort into modular programing.\n",
        "\n",
        "All algorithm will be attempt to be written in modular programming for cleaner code and usability.\n",
        "\n",
        "After every implementation of the algorithms in code, I will provide leetcode like problem to work through a problem solving question applying the algorithm.\n",
        "\n",
        "I've create this repo:\n",
        "https://github.com/dcnguyen060899/BerkeleyMLMods\n",
        "\n",
        "because:\n",
        "1. UC Berkeley program goes through the theory of ML and only use procedural programming (Using Functions) to implement algorithm.\n",
        "\n",
        "2. I want to apply modular structure Object-Oriented Programming (Using Classes) on to algorithms for every Machine Learning concepts I learned and understood from the program.\n",
        "  2.1 For learning purposes, I want to apply my data structure and algorithm skills.\n",
        "\n",
        "After this program finished, you may git clone my BerkeleyMLMods packages to use the algorithm from the library on your dataset.\n",
        "\n",
        "With the final capstone project, I will be use my own packages that I wrote for analysis and modelling.\n",
        "\n",
        "**Follow me through each module each week.**"
      ],
      "metadata": {
        "id": "0WWa9qJ4j9yP"
      }
    },
    {
      "cell_type": "markdown",
      "source": [
        "## Module 5:"
      ],
      "metadata": {
        "id": "j436OJqSpVbP"
      }
    },
    {
      "cell_type": "markdown",
      "source": [
        "### PCA through understand SVD"
      ],
      "metadata": {
        "id": "xkGc1t5CqwSa"
      }
    },
    {
      "cell_type": "markdown",
      "source": [
        "Solving a LeetCode-style problem that involves understanding and implementing Principal Component Analysis (PCA) using the Singular Value Decomposition (SVD) approach involves a blend of theoretical understanding and practical implementation skills. Here’s how I would approach this task:\n",
        "\n",
        "### Understanding PCA and SVD\n",
        "\n",
        "1. **Theoretical Foundation**:\n",
        "   - **PCA (Principal Component Analysis)**: PCA is a statistical technique used for dimensionality reduction while preserving as much variance as possible. It transforms the data into a new set of uncorrelated variables, called principal components, ordered by the amount of variance they capture.\n",
        "   - **SVD (Singular Value Decomposition)**: SVD is a matrix factorization technique that decomposes a matrix into three other matrices. When applied to a data matrix, it can extract the principal components, allowing us to perform PCA.\n",
        "\n",
        "2. **Relationship Between PCA and SVD**:\n",
        "   - Applying SVD to the data matrix \\( X \\) gives us \\( X = U \\Sigma V^T \\), where \\( U \\) and \\( V \\) are orthogonal matrices, and \\( \\Sigma \\) is a diagonal matrix of singular values.\n",
        "   - The columns of \\( V \\) (right singular vectors) correspond to the principal components of \\( X \\).\n",
        "   - The singular values in \\( \\Sigma \\) are related to the variance captured by each principal component.\n",
        "\n",
        "3. **Preprocessing for PCA**:\n",
        "   - **Centering the Data**: The data must be centered (mean subtracted from each feature) before applying SVD for PCA, as PCA is sensitive to the scale of the features.\n",
        "\n",
        "### Implementing PCA using SVD in Python\n",
        "\n",
        "I'll illustrate the process with a simple implementation, which includes data centering, applying SVD, and extracting principal components."
      ],
      "metadata": {
        "id": "CJ-7Pxgqq6DI"
      }
    },
    {
      "cell_type": "code",
      "source": [
        "import numpy as np"
      ],
      "metadata": {
        "id": "pcNz0773q5mW"
      },
      "execution_count": null,
      "outputs": []
    },
    {
      "cell_type": "markdown",
      "source": [
        "\n",
        "### Thought Process and Research\n",
        "\n",
        "- **Understanding the Concepts**: It's crucial to have a clear understanding of PCA and SVD, as well as how they are interconnected. Reviewing their mathematical foundation and their role in dimensionality reduction is essential before diving into the code.\n",
        "\n",
        "- **Practical Implementation**: The actual coding involves applying the SVD on the centered data and then using the output to project the data onto the new feature space defined by the principal components. It’s important to ensure the data is appropriately preprocessed (centered) before SVD is applied.\n",
        "\n",
        "- **Testing and Validation**: After implementation, testing the function on known datasets or simulated data helps validate that the PCA is performed correctly. Comparing the results with a standard library like scikit-learn’s PCA implementation can also be a good way to check the correctness.\n",
        "\n",
        "- **Optimization and Scalability**: While the above implementation works well for small datasets, considerations regarding the computational efficiency and memory usage are crucial for large datasets. In such cases, using randomized SVD or incremental PCA methods might be necessary.\n",
        "\n",
        "This approach demonstrates a balance between theoretical knowledge and practical application, essential for effectively solving algorithmic problems, especially in a coding interview or a LeetCode-style platform."
      ],
      "metadata": {
        "id": "ckUJF414rEfL"
      }
    },
    {
      "cell_type": "markdown",
      "source": [
        "### K-mean Clustering"
      ],
      "metadata": {
        "id": "MYW-NzaPCMdj"
      }
    },
    {
      "cell_type": "markdown",
      "source": [
        "Solving a LeetCode-style problem that involves understanding and implementing the k-means clustering algorithm requires a blend of theoretical knowledge and practical coding skills. Here’s how I would approach this task:\n",
        "\n",
        "### Understanding K-Means Clustering\n",
        "\n",
        "1. **Conceptual Overview**: K-means clustering is an unsupervised machine learning algorithm used to divide a set of data points into k distinct clusters, where each data point belongs to the cluster with the nearest mean. The algorithm aims to minimize the variance within each cluster.\n",
        "\n",
        "2. **Algorithm Steps**:\n",
        "   - **Initialization**: Start by selecting 'k' initial centroids randomly (the k points in your dataset that will be the initial cluster centers).\n",
        "   - **Cluster Assignment**: Assign each data point to the nearest centroid. The \"nearest\" is usually determined by the Euclidean distance between the point and the centroid.\n",
        "   - **Centroid Update**: Recompute the centroids by calculating the mean of all data points assigned to each centroid's cluster.\n",
        "   - **Repeat**: Repeat the cluster assignment and centroid update steps until the centroids no longer change significantly, indicating that the clusters are stable and the algorithm has converged.\n",
        "\n",
        "3. **Choosing 'k'**: The number of clusters 'k' is a critical parameter. Determining the right 'k' can be challenging and often involves techniques like the elbow method, where you compare the within-cluster sum of squares (WCSS) against various 'k' values and look for an \"elbow\" point where the rate of decrease sharply changes.\n",
        "\n",
        "4. **Limitations**: K-means assumes spherical clusters and can perform poorly on complex geometrical shaped data. It is also sensitive to the scale of the data and the initial choice of centroids.\n",
        "\n",
        "### Implementing K-Means Clustering in Python\n",
        "\n",
        "Here’s a simplified version of how I would implement the k-means clustering algorithm from scratch in Python:\n",
        "\n",
        "\n"
      ],
      "metadata": {
        "id": "4nvI7vXsCIzo"
      }
    },
    {
      "cell_type": "code",
      "source": [
        "%%writefile KMeans.py\n",
        "import numpy as np\n",
        "\n",
        "class KMeans:\n",
        "  # k is how many random point you want the data to be on the data scatter\n",
        "  def __init__(self, k, max_iters, random_state):\n",
        "    self.k = k\n",
        "    self.max_iters = max_iters\n",
        "    np.random.seed(random_state)\n",
        "\n",
        "  # now we need to initialize the value n value randomly across the data point\n",
        "  def initialize_centroids(self, X):\n",
        "    random_idx = np.random.permutation(X.shape[0])\n",
        "    # remember, you only want to take three points\n",
        "    centroids = X[random_idx[:self.k]]\n",
        "    return centroids\n",
        "\n",
        "  def fit(self, X):\n",
        "    # in this variable you will get the three random point of the data\n",
        "    self.centroids = self.initialize_centroids(X)\n",
        "\n",
        "    for _ in range(self.max_iters):\n",
        "      # when assign clusters, essentially interally the function will find the distance between random\n",
        "      # k points with other points and select the label the data points X that are closest to the centroids\n",
        "      self.labels = self.assign_clusters(X, self.centroids)\n",
        "      old_centroids = self.centroids # only use to hold the value from previous computation to check convergence to break the loop\n",
        "      self.centroids = self.compute_centroids(X, self.labels)\n",
        "\n",
        "      if np.all(old_centroids == self.centroids):\n",
        "        break\n",
        "\n",
        "  def assign_clusters(self, X, centroids):\n",
        "    # what does assigning means to you\n",
        "      # mean assign the data point that is closest to the centroids\n",
        "      # you need to find the distance between datapoint and centroids\n",
        "    # you may use euclidean distance\n",
        "    distances = np.sqrt(((X-centroids[:, np.newaxis])**2).sum(axis=2))\n",
        "    # np.argmin() will map out all the labels of each data point where it belongs, there are points that are centroids range from k = n\n",
        "    return np.argmin(distances, axis=0)\n",
        "\n",
        "  def compute_centroids(self, X, labels):\n",
        "    # if the k is 3 and your data set has 5 columns then the centroid shape would be (3, 5)\n",
        "    # because essentially you are plotting the point random on the whole dataset, it always represent all the columns but only with three rows (k)\n",
        "    centroids = np.zeros((self.k, X.shape[1])) # mapping out the dimension of the centroids, (k, n_features)\n",
        "\n",
        "    # loop through each k\n",
        "    for k in range(self.k):\n",
        "      # for each centroids, as the centroids == the labels data points, we take the mean of all those data\n",
        "      # when calling axis=0, essentially we are selecting the chunk of array that represent the centroids and then we compute it's mean,\n",
        "      # that mean is a scaler where it represent the datapoint\n",
        "      centroids[k, :] = np.mean(X[labels==k, :], axis=0)\n",
        "\n",
        "    return centroids\n",
        "\n",
        "  def predict(self, X):\n",
        "    return self.assign_clusters(X, self.centroids) # remember, assign_clusters() is just a function that calculate the distance then assign the label to the data point that closest to the centroids\n",
        "    # so when using the predict function, note that the self.centroids here is the centroids that has converge, so the centroids will be closest to the data point that would be closest to its potential unseen data points\n",
        "\n",
        "\n",
        "\n"
      ],
      "metadata": {
        "colab": {
          "base_uri": "https://localhost:8080/"
        },
        "id": "3WJchI46CKQ1",
        "outputId": "f31255ba-86fc-4e88-e34b-cccd96480d28"
      },
      "execution_count": null,
      "outputs": [
        {
          "output_type": "stream",
          "name": "stdout",
          "text": [
            "Writing KMeans.py\n"
          ]
        }
      ]
    },
    {
      "cell_type": "code",
      "source": [
        "%%writefile run.py\n",
        "if __name__ == \"__main__\":\n",
        "  import matplotlib.pyplot as plt\n",
        "  from sklearn.datasets import make_blobs\n",
        "  from KMeans import KMeans\n",
        "\n",
        "  X, _ = make_blobs(centers=3, n_samples=300, random_state=42)\n",
        "\n",
        "  kmeans = KMeans(k=3, max_iters=100, random_state=42)\n",
        "  kmeans.fit(X)\n",
        "  labels = kmeans.predict(X)\n",
        "\n",
        "  plt.scatter(X[:, 0], X[:, 1], c=labels, cmap='viridis')\n",
        "  plt.scatter(kmeans.centroids[:, 0], kmeans.centroids[:, 1], s=300, c='red', label='Centroids')\n",
        "  plt.savefig('cluster_plot.png')  # Save the figure\n"
      ],
      "metadata": {
        "colab": {
          "base_uri": "https://localhost:8080/"
        },
        "id": "uEgjPYlQ6PcO",
        "outputId": "e9f5692b-c189-4cbf-f4fd-1b7594474dd7"
      },
      "execution_count": null,
      "outputs": [
        {
          "output_type": "stream",
          "name": "stdout",
          "text": [
            "Writing run.py\n"
          ]
        }
      ]
    },
    {
      "cell_type": "code",
      "source": [
        "import matplotlib.pyplot as plt\n",
        "import matplotlib.image as mpimg\n",
        "\n",
        "# Load the image from file\n",
        "img = mpimg.imread('/content/cluster_plot.png')\n",
        "\n",
        "# Display the image\n",
        "plt.imshow(img)\n",
        "plt.axis('off')\n",
        "plt.show()"
      ],
      "metadata": {
        "colab": {
          "base_uri": "https://localhost:8080/",
          "height": 406
        },
        "id": "mMQNd5l-n4_j",
        "outputId": "6a62f5e7-1dd9-43cd-db73-09886cb7e18b"
      },
      "execution_count": null,
      "outputs": [
        {
          "output_type": "display_data",
          "data": {
            "text/plain": [
              "<Figure size 640x480 with 1 Axes>"
            ],
            "image/png": "[encoded data removed]"
          },
          "metadata": {}
        }
      ]
    },
    {
      "cell_type": "code",
      "source": [
        "!python3 run.py"
      ],
      "metadata": {
        "id": "aJ4QfkiHngBG"
      },
      "execution_count": null,
      "outputs": []
    },
    {
      "cell_type": "markdown",
      "source": [
        "\n",
        "### Thought Process and Research\n",
        "\n",
        "- **Algorithmic Understanding**: Before diving into coding, I ensure a strong grasp of the k-means algorithm, its applications, and its limitations. This foundational knowledge guides effective implementation and troubleshooting.\n",
        "\n",
        "- **Practical Implementation**: The code is structured to reflect the iterative nature of k-means, with clear methods for initializing centroids, assigning clusters, and updating centroids. This modular approach aligns with good programming practices and makes the code more maintainable and testable.\n",
        "\n",
        "- **Testing and Evaluation**: Implementing the algorithm from scratch allows for a deeper understanding but also requires thorough testing. I would test the algorithm on synthetic datasets (like those generated by `make_blobs`) to ensure it performs as expected.\n",
        "\n",
        "- **Optimization and Robustness**: While the basic implementation is straightforward, real-world scenarios might require optimizations for efficiency and enhancements to handle edge cases, such as convergence criteria and handling empty clusters.\n",
        "\n",
        "Approaching this problem involves balancing theoretical knowledge with practical implementation skills, ensuring the algorithm"
      ],
      "metadata": {
        "id": "KdG81U9F6IJR"
      }
    },
    {
      "cell_type": "markdown",
      "source": [
        "#### Unit Testing - Debugging Algorithm"
      ],
      "metadata": {
        "id": "weCqRmnk_9S5"
      }
    },
    {
      "cell_type": "code",
      "source": [
        "import unittest\n",
        "import numpy as np\n",
        "\n",
        "class TestKMeans(unittest.TestCase):\n",
        "\n",
        "    def test_initialize_centroids(self):\n",
        "        # Mock data and parameters\n",
        "        X = np.array([[1, 2], [3, 4], [5, 6]])\n",
        "        k = 2\n",
        "        random_state = 42\n",
        "        model = KMeans(k=k, max_iters=100, random_state=random_state)\n",
        "\n",
        "        # Action\n",
        "        centroids = model.initialize_centroids(X)\n",
        "\n",
        "        # Assert\n",
        "        self.assertEqual(centroids.shape, (k, X.shape[1]))\n",
        "        self.assertTrue(np.all([c in X for c in centroids]))  # Check if centroids are from X\n",
        "\n",
        "    def test_compute_centroids(self):\n",
        "        # Mock data, labels, and parameters\n",
        "        X = np.array([[1, 2], [3, 4], [5, 6]])\n",
        "        labels = np.array([0, 1, 1])\n",
        "        k = 2\n",
        "        expected_centroids = np.array([[1, 2], [4, 5]])  # Manually computed expected centroids\n",
        "        model = KMeans(k=k, max_iters=100, random_state=42)\n",
        "        model.centroids = np.zeros((k, X.shape[1]))\n",
        "\n",
        "        # Action\n",
        "        new_centroids = model.compute_centroids(X, labels)\n",
        "\n",
        "        # Assert\n",
        "        np.testing.assert_array_almost_equal(new_centroids, expected_centroids)\n",
        "\n",
        "    def test_assign_clusters(self):\n",
        "        # Mock data and centroids\n",
        "        X = np.array([[1, 2], [3, 4], [6, 7]])\n",
        "        centroids = np.array([[1, 2], [5, 6]])\n",
        "        model = KMeans(k=2, max_iters=100, random_state=42)\n",
        "\n",
        "        # Action\n",
        "        labels = model.assign_clusters(X, centroids)\n",
        "\n",
        "        # Assert\n",
        "        expected_labels = np.array([0, 0, 1])\n",
        "        np.testing.assert_array_equal(labels, expected_labels)\n",
        "\n",
        "    def test_predict(self):\n",
        "        # Assuming fit() works correctly, test predict with mock centroids\n",
        "        X = np.array([[0, 0], [4, 4]])\n",
        "        model = KMeans(k=2, max_iters=100, random_state=42)\n",
        "        model.centroids = np.array([[1, 1], [3, 3]])\n",
        "\n",
        "        # Action\n",
        "        predictions = model.predict(X)\n",
        "\n",
        "        # Assert\n",
        "        expected_predictions = np.array([0, 1])\n",
        "        np.testing.assert_array_equal(predictions, expected_predictions)\n",
        "\n",
        "import unittest\n",
        "\n",
        "# Assume your TestKMeans class is already defined here\n",
        "\n",
        "def run_tests():\n",
        "    suite = unittest.TestLoader().loadTestsFromTestCase(TestKMeans)\n",
        "    unittest.TextTestRunner(verbosity=2).run(suite)\n",
        "\n",
        "run_tests()\n"
      ],
      "metadata": {
        "colab": {
          "base_uri": "https://localhost:8080/"
        },
        "id": "HnUspMXNxC_V",
        "outputId": "2af06652-f396-44b9-cdff-de4c108e4d7f"
      },
      "execution_count": null,
      "outputs": [
        {
          "output_type": "stream",
          "name": "stderr",
          "text": [
            "test_assign_clusters (__main__.TestKMeans) ... ok\n",
            "test_compute_centroids (__main__.TestKMeans) ... ok\n",
            "test_initialize_centroids (__main__.TestKMeans) ... ok\n",
            "test_predict (__main__.TestKMeans) ... ok\n",
            "\n",
            "----------------------------------------------------------------------\n",
            "Ran 4 tests in 0.017s\n",
            "\n",
            "OK\n"
          ]
        }
      ]
    },
    {
      "cell_type": "markdown",
      "source": [
        "#### Understanding Broadcasting:"
      ],
      "metadata": {
        "id": "XccJsYOPj9cn"
      }
    },
    {
      "cell_type": "code",
      "source": [
        "X = np.array([[1, 2], [3, 4], [2, 1], [5, 1],[2, 2],[3, 3]])\n",
        "centroids = np.array([[1, 0], [0, 1]])\n",
        "\n",
        "# Reshape centroids for broadcasting\n",
        "expanded_centroids = centroids[:, np.newaxis]  # shape becomes (2, 1, 2)\n",
        "expanded_centroids\n",
        "# # Broadcasting subtraction\n",
        "diff = (X - centroids[:, np.newaxis])\n",
        "  # resulting shape is (2, 2, 2)\n",
        "# Compute squared distances and sum over features\n",
        "squared_diff = np.square(diff)  # still (2, 2, 2)\n",
        "summed_squared_diff = squared_diff.sum(axis=2)  # sum over features, shape is (2, 2) not centroids\n",
        "# if summing axis=0, essentially we are summing the feature from centroids 0 to centroid 1\n",
        "# what we want is summing the datapoint within its own centroids\n",
        "\n",
        "squared_diff, np.mean(squared_diff[1], axis=0), summed_squared_diff\n",
        "# # Compute the square root of the summed squared differences\n",
        "# distances = np.sqrt(summed_squared_diff)  # final distances, shape is (2, 2)\n",
        "\n",
        "# distances, np.argmin(distances, axis=0)\n",
        "\n",
        "# # print('array([1, 1, 0, 0, 0, 0]) meaning that the first data point is closest to the first centroids and vice versa')\n",
        "# print('(array([[2.        , 4.47213595, 1.41421356, 4.12310563, 2.23606798, \\\n",
        "#          3.60555128], \\\n",
        "#         [1.41421356, 4.24264069, 2.        , 5.        , 2.23606798, \\\n",
        "#          3.60555128]]) \\n Interpretation: the first data point is 2. away from centroids 0 and 1.41 away from the first centroids \\\n",
        "#          \\n so then that means the first data point is closer to centroids 1 than 0')"
      ],
      "metadata": {
        "id": "PTx6ckPDYuiW"
      },
      "execution_count": null,
      "outputs": []
    },
    {
      "cell_type": "markdown",
      "source": [
        "## Module 12"
      ],
      "metadata": {
        "id": "K5zj8Q2BqA76"
      }
    },
    {
      "cell_type": "markdown",
      "source": [
        "### K Nearest Neighbors"
      ],
      "metadata": {
        "id": "09iN-8kjY_Tw"
      }
    },
    {
      "cell_type": "markdown",
      "source": [
        "Solving a LeetCode problem that involves understanding and implementing the k-nearest neighbors (KNN) algorithm can be approached systematically. Here’s how I would tackle this task:\n",
        "\n",
        "### Understanding K-Nearest Neighbors (KNN)\n",
        "\n",
        "1. **Conceptual Overview**: KNN is a simple, yet powerful machine learning algorithm used for classification and regression. It works by finding the 'k' closest training examples in the feature space, and the output is determined by majority vote (for classification) or average (for regression) of these 'k' nearest neighbors.\n",
        "\n",
        "2. **Choosing 'k'**: The choice of 'k' affects the algorithm significantly. A smaller 'k' can lead to noise having a higher influence on the result, while a larger 'k' makes the computation costlier and might include points that are too far away, leading to underfitting.\n",
        "\n",
        "3. **Distance Metric**: Commonly, Euclidean distance is used, but depending on the problem, other metrics like Manhattan or Minkowski distance can be more appropriate.\n",
        "\n",
        "4. **Feature Scaling**: It’s crucial to scale the features because KNN is distance-based, meaning it's sensitive to the magnitude of the features.\n",
        "\n",
        "### Implementing KNN in Python\n",
        "\n",
        "Here’s a simplified version of how I would implement KNN from scratch in Python, focusing on classification:\n",
        "\n"
      ],
      "metadata": {
        "id": "4Un9F12iXMf7"
      }
    },
    {
      "cell_type": "code",
      "source": [
        "%%writefile KNN.py\n",
        "import numpy as np\n",
        "\n",
        "# this function method convert a list into a hashable map\n",
        "from collections import Counter\n",
        "\n",
        "# remember x1 and x2 is an array where you will pair the addition and sum it in parralel\n",
        "\n",
        "def euclidean_distance(x1, x2):\n",
        "  return np.sqrt(np.sum((x1-x2)**2))\n",
        "\n",
        "# now let's define the class that iterate the steps of an KNN algorithm\n",
        "# first let define what we need in a KNN:\n",
        "  # we need a method of fitting the data base on the number of k\n",
        "  # we also need a method of predicting our fitted model\n",
        "\n",
        "class KNN:\n",
        "  def __init__(self, k):\n",
        "    self.k = k\n",
        "\n",
        "  def fit(self, X, y):\n",
        "    self.X_train = X\n",
        "    self.y_train = y\n",
        "\n",
        "  # this function is the object of array to hold the predicted value\n",
        "  def predict(self, X):\n",
        "    y_pred = [self._predict(x) for x in X]\n",
        "    return np.array(y_pred)\n",
        "\n",
        "  # now we need to define the actually prediction model\n",
        "  def _predict(self, x):\n",
        "    # calculate the distance between the point of interest to all other point in the dataset\n",
        "    distances = [euclidean_distance(x, x_train) for x_train in self.X_train] # return a list of value\n",
        "\n",
        "    # sort the distance and select the lowest\n",
        "    k_indices = np.argsort(distances)[:self.k] # sort the value into order then return the indices of corresponding to the value sorted\n",
        "\n",
        "    # find the label that correst pond to the lowest distance\n",
        "    # remember that k_indices is the indices of the k=n value\n",
        "    k_nearest_labels = [self.y_train[i] for i in k_indices] # the i indices (k_indices) that has the lowest distance that point to the y_train\n",
        "\n",
        "    # now create a hashable map where each value will have count values\n",
        "    # most common value is x, appear y times\n",
        "    most_common = Counter(k_nearest_labels).most_common(1)\n",
        "\n",
        "    return most_common[0][0]\n",
        "\n",
        "\n",
        "\n",
        "\n"
      ],
      "metadata": {
        "colab": {
          "base_uri": "https://localhost:8080/"
        },
        "id": "axvXKge4ZPAG",
        "outputId": "ee0ed2e1-f16b-420a-c5ae-7b61659feae0"
      },
      "execution_count": null,
      "outputs": [
        {
          "output_type": "stream",
          "name": "stdout",
          "text": [
            "Writing KNN.py\n"
          ]
        }
      ]
    },
    {
      "cell_type": "code",
      "source": [
        "%%writefile run.py\n",
        "if __name__ == \"__main__\":\n",
        "  from sklearn.datasets import load_iris\n",
        "  from sklearn.model_selection import train_test_split\n",
        "  from sklearn.preprocessing import StandardScaler\n",
        "  from KNN import KNN\n",
        "  import numpy as np\n",
        "\n",
        "  iris = load_iris()\n",
        "  X, y = iris.data, iris.target\n",
        "\n",
        "  X_train, X_test, y_train, y_test = train_test_split(X, y, test_size=0.1, random_state=123)\n",
        "\n",
        "  scaler = StandardScaler()\n",
        "  X_train = scaler.fit_transform(X_train)\n",
        "  X_test = scaler.transform(X_test) # avoid data leakage top not use fit_transform, just standard scale the testing data\n",
        "\n",
        "  n=1\n",
        "\n",
        "  model = KNN(k=n)\n",
        "  model.fit(X_train, y_train) # internally the data is just storing the training dataset\n",
        "\n",
        "  predictions = model.predict(X_test) # the training of the model is actually happening here\n",
        "  accuracy = np.mean(predictions == y_test)\n",
        "  print(f\"Accuracy: {accuracy}\")\n"
      ],
      "metadata": {
        "colab": {
          "base_uri": "https://localhost:8080/"
        },
        "id": "xvjkqeMOJDFP",
        "outputId": "e02ae481-85a2-474e-ca7d-8ca1fd8729c6"
      },
      "execution_count": null,
      "outputs": [
        {
          "output_type": "stream",
          "name": "stdout",
          "text": [
            "Overwriting run.py\n"
          ]
        }
      ]
    },
    {
      "cell_type": "code",
      "source": [
        "!python run.py"
      ],
      "metadata": {
        "colab": {
          "base_uri": "https://localhost:8080/"
        },
        "id": "flL28FvvQqWg",
        "outputId": "bec8bc29-d480-4b2b-85c0-7e29bee3bd67"
      },
      "execution_count": null,
      "outputs": [
        {
          "output_type": "stream",
          "name": "stdout",
          "text": [
            "Accuracy: 0.9333333333333333\n"
          ]
        }
      ]
    },
    {
      "cell_type": "markdown",
      "source": [
        "### Thought Process and Research\n",
        "\n",
        "- **Algorithm Understanding**: Before coding, I ensure a solid understanding of KNN's mechanism, which helps in making informed decisions about key aspects like distance metrics and the value of 'k'.\n",
        "\n",
        "- **Code Structuring**: I structure the code into clear, reusable components (like the `fit`, `predict`, and `_predict` methods), which aligns with good software engineering practices.\n",
        "\n",
        "- **Testing and Evaluation**: After implementation, it's important to test the algorithm on a dataset (like Iris) to ensure it works as expected. This involves evaluating its accuracy and making adjustments if necessary.\n",
        "\n",
        "- **Optimization Considerations**: While the above code is a basic implementation, in a real-world scenario, considerations around optimizing for large datasets, parallel processing, or even using specialized libraries like Scikit-learn’s KNN implementation might be necessary.\n",
        "\n",
        "This approach balances understanding the fundamental concepts, applying them in code, and ensuring the implementation is sound through testing and evaluation."
      ],
      "metadata": {
        "id": "GEMYGHrRUeSg"
      }
    },
    {
      "cell_type": "markdown",
      "source": [
        "# Problem Solving"
      ],
      "metadata": {
        "id": "49w3qBOxXPWq"
      }
    },
    {
      "cell_type": "markdown",
      "source": [
        "Let's design a LeetCode-style problem that incorporates the K-Nearest Neighbors (KNN) algorithm, following the format and details similar to the 3Sum problem but tailored to a scenario where KNN could be applied.\n",
        "\n",
        "### LeetCode Problem: K-Nearest Stars\n",
        "\n",
        "#### Difficulty: Medium\n",
        "\n",
        "#### Topics: Arrays, Sorting, K-Nearest Neighbors\n",
        "\n",
        "#### Companies: This type of question could be relevant for companies focusing on data science, machine learning, or astronomy-related software.\n",
        "\n",
        "#### Hint\n",
        "Consider utilizing a sorting algorithm to order stars by their distance from Earth. Then, apply the KNN concept to find the 'k' stars closest to the provided coordinates, ensuring no duplicate stars are included in the results.\n",
        "\n",
        "#### Problem Description\n",
        "\n",
        "Given an array `stars` representing the coordinates of stars in space (where each star is represented as a point `[x, y, z]` in 3D space), and an array `coordinates` representing the coordinates of a point in space, return the 'k' stars closest to the given point. Each element in `stars` is unique.\n",
        "\n",
        "The distance between two points `[x1, y1, z1]` and `[x2, y2, z2]` is given by the Euclidean distance formula. The answer should be returned as an array of integer indices of the 'k' closest stars in the original list, sorted in ascending order of their distances from the given point. If two stars are equidistant, prioritize the star with the lower index.\n",
        "\n",
        "#### Examples\n",
        "\n",
        "**Example 1:**\n",
        "\n",
        "- Input: stars = [[0,0,0], [1,2,3], [3,2,1]], coordinates = [1,1,1], k = 2\n",
        "- Output: [0, 2]\n",
        "- Explanation:\n",
        "   - The distances of the stars from the point [1,1,1] are [1.732, 2.236, 1.732] respectively.\n",
        "   - The two closest stars are at indices 0 and 2.\n",
        "\n",
        "**Example 2:**\n",
        "\n",
        "- Input: stars = [[1,1,1], [2,2,2], [3,3,3], [4,4,4]], coordinates = [1,0,0], k = 3\n",
        "- Output: [0, 1, 2]\n",
        "- Explanation:\n",
        "   - The stars closest to the point [1,0,0] are the first three stars in the array.\n",
        "\n",
        "#### Constraints:\n",
        "\n",
        "- \\( 1 <= k <= \\text{len(stars)} <= 5000 \\)\n",
        "- \\( -10^5 <= x, y, z <= 10^5 \\)\n",
        "- All `stars[i]` are unique.\n",
        "- `coordinates` is a 3-element array representing a point in 3D space.\n",
        "\n",
        "---\n",
        "\n",
        "#### Implementing KNN for the Problem\n",
        "\n",
        "The provided KNN class could be adapted to solve this problem by modifying it to work with 3D points instead of the 2D or multidimensional points typically used in standard datasets. The Euclidean distance calculation would remain the same, as it naturally extends to any number of dimensions. The `fit` method would not change, while the `predict` method would be repurposed to sort the stars by their distance to the `coordinates` and return the indices of the 'k' nearest ones.\n",
        "\n",
        "This problem is a good test of understanding both KNN and how to manipulate data structures and apply sorting algorithms in a programming context, typical of what might be expected in a coding interview focusing on machine learning or data manipulation tasks."
      ],
      "metadata": {
        "id": "4WAAVepSWRoz"
      }
    },
    {
      "cell_type": "markdown",
      "source": [
        "# K Means Problem\n",
        "\n",
        "Creating a LeetCode-style problem that involves understanding and implementing a k-means clustering algorithm offers an interesting twist. Here’s a structured approach to formulating such a problem:\n",
        "\n",
        "### LeetCode Problem: Cluster Colors\n",
        "\n",
        "#### Difficulty: Medium\n",
        "\n",
        "#### Topics: Arrays, Clustering, K-Means\n",
        "\n",
        "#### Hint\n",
        "To solve this problem, consider implementing the k-means clustering algorithm to group colors based on their similarity. Remember, the algorithm involves initializing k centroids, assigning points (colors) to the nearest centroids, recalculating centroids, and repeating the process until convergence.\n",
        "\n",
        "#### Problem Description\n",
        "\n",
        "Given an array `colors` where each `color` is represented as `[R, G, B]` indicating the Red, Green, and Blue components of a color, implement the k-means clustering algorithm to classify the colors into `k` clusters based on their similarity in RGB color space. Return the array `clusters` containing `k` arrays, each representing a cluster of colors.\n",
        "\n",
        "#### Examples\n",
        "\n",
        "**Example 1:**\n",
        "\n",
        "- Input: colors = [[255,0,0], [0,255,0], [0,0,255], [255,255,0]], k = 2\n",
        "- Output: [[[255, 0, 0], [255, 255, 0]], [[0, 255, 0], [0, 0, 255]]]\n",
        "- Explanation:\n",
        "   - The colors are clustered into two groups: one with red and yellow (similar because of the high red component), and another with green and blue.\n",
        "\n",
        "**Example 2:**\n",
        "\n",
        "- Input: colors = [[100,100,100], [200,200,200], [150,150,150]], k = 2\n",
        "- Output: [[[100, 100, 100], [150, 150, 150]], [[200, 200, 200]]]\n",
        "- Explanation:\n",
        "   - The colors are clustered based on their brightness, resulting in two clusters.\n",
        "\n",
        "#### Constraints:\n",
        "\n",
        "- \\( 1 <= k <= \\text{len(colors)} \\)\n",
        "- \\( 0 <= R, G, B <= 255 \\)\n",
        "- Each `color` in `colors` is unique.\n",
        "\n",
        "#### Note\n",
        "For the sake of simplicity in a coding interview scenario, you may assume that the k-means algorithm's initialization step selects the first `k` unique colors as the initial centroids. This modification is to avoid the complexity of random selection which might require additional explanations during an interview.\n",
        "\n",
        "---\n",
        "\n",
        "This problem statement encourages candidates to apply the k-means clustering algorithm in a slightly unconventional domain (color space clustering) while still requiring the foundational understanding of how k-means works. The focus on RGB color space provides a tangible, visual context for the algorithm's application, making it an engaging and instructional challenge."
      ],
      "metadata": {
        "id": "MN20ZEAEDmcS"
      }
    },
    {
      "cell_type": "code",
      "execution_count": null,
      "metadata": {
        "id": "PsN1ZsmeWPRc"
      },
      "outputs": [],
      "source": []
    },
    {
      "cell_type": "code",
      "source": [],
      "metadata": {
        "id": "i5APt-5Pcc1n"
      },
      "execution_count": null,
      "outputs": []
    }
  ]
}